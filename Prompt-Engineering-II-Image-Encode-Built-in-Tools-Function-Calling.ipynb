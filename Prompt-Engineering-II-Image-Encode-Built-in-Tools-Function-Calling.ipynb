{
 "cells": [
  {
   "cell_type": "markdown",
   "id": "aea73bfd",
   "metadata": {},
   "source": [
    "# Prompt Engineering"
   ]
  },
  {
   "cell_type": "markdown",
   "id": "314451b5",
   "metadata": {},
   "source": [
    "### Passing a Base64 encoded image"
   ]
  },
  {
   "cell_type": "code",
   "execution_count": null,
   "id": "71bba697",
   "metadata": {},
   "outputs": [],
   "source": [
    "import os\n",
    "os.environ[\"OPENAI_API_KEY\"] = \"sk-proj-_C0-J9gAQA\""
   ]
  },
  {
   "cell_type": "code",
   "execution_count": null,
   "id": "81532036",
   "metadata": {},
   "outputs": [],
   "source": [
    "from openai import OpenAI\n",
    "\n",
    "client = OpenAI()"
   ]
  },
  {
   "cell_type": "code",
   "execution_count": null,
   "id": "b029e529",
   "metadata": {},
   "outputs": [],
   "source": [
    "!pip show openai"
   ]
  },
  {
   "cell_type": "code",
   "execution_count": null,
   "id": "c799d68e",
   "metadata": {},
   "outputs": [],
   "source": [
    "import openai\n",
    "print(openai.__version__)"
   ]
  },
  {
   "cell_type": "code",
   "execution_count": null,
   "id": "4400959e",
   "metadata": {},
   "outputs": [],
   "source": [
    "import base64\n",
    "from openai import OpenAI\n",
    "\n",
    "client = OpenAI()\n",
    "\n",
    "# Function to encode the image\n",
    "def encode_image(image_path):\n",
    "    with open(image_path, \"rb\") as image_file:\n",
    "        return base64.b64encode(image_file.read()).decode(\"utf-8\")\n",
    "\n",
    "\n",
    "# Path to your image\n",
    "image_path = \"lion.jpg\"\n",
    "\n",
    "# Getting the Base64 string\n",
    "base64_image = encode_image(image_path)\n",
    "\n",
    "\n",
    "response = openai.chat.completions.create(\n",
    "    model=\"gpt-4.1\",\n",
    "    messages=[\n",
    "        {\n",
    "            \"role\": \"user\",\n",
    "            \"content\": [\n",
    "                {\"type\": \"text\", \"text\": \"What’s in this image?\"},\n",
    "                {\n",
    "                    \"type\": \"image_url\",\n",
    "                    \"image_url\": {\n",
    "                        \"url\": f\"data:image/jpeg;base64,{base64_image}\"\n",
    "                    }\n",
    "                }\n",
    "            ]\n",
    "        }\n",
    "    ],\n",
    "    max_tokens=300,\n",
    ")\n",
    "\n",
    "print(response.choices[0].message.content)"
   ]
  },
  {
   "cell_type": "markdown",
   "id": "7f0f92ef",
   "metadata": {},
   "source": [
    "clarification on \"Image input requirements\""
   ]
  },
  {
   "cell_type": "markdown",
   "id": "2ccab6a7",
   "metadata": {},
   "source": [
    "clarification on \"Limitations\""
   ]
  },
  {
   "cell_type": "markdown",
   "id": "ac29e6e7",
   "metadata": {},
   "source": [
    "# Extend the model with tools "
   ]
  },
  {
   "cell_type": "code",
   "execution_count": null,
   "id": "274ce5e6",
   "metadata": {},
   "outputs": [],
   "source": [
    "# !pip install openai==0.28"
   ]
  },
  {
   "cell_type": "code",
   "execution_count": null,
   "id": "16f78dca",
   "metadata": {
    "scrolled": true
   },
   "outputs": [],
   "source": [
    "import openai\n",
    "\n",
    "openai.api_key = 'sk-pD-VLSk9gAQA'\n",
    "\n",
    "response = openai.ChatCompletion.create(\n",
    "    model=\"gpt-4.1\",  # or \"gpt-4\", \"gpt-3.5-turbo\"\n",
    "    messages=[\n",
    "        {\"role\": \"user\", \"content\": \"What was a positive news story today?\"}\n",
    "    ]\n",
    ")\n",
    "print(response.choices[0].message[\"content\"])"
   ]
  },
  {
   "cell_type": "markdown",
   "id": "8163d60a",
   "metadata": {},
   "source": [
    "clarifications in \"Using Tools\""
   ]
  },
  {
   "cell_type": "markdown",
   "id": "ea038735",
   "metadata": {},
   "source": [
    "## Use built-in tools"
   ]
  },
  {
   "cell_type": "markdown",
   "id": "10130679",
   "metadata": {},
   "source": [
    "### Function calling"
   ]
  },
  {
   "cell_type": "code",
   "execution_count": null,
   "id": "8e807550",
   "metadata": {},
   "outputs": [],
   "source": [
    "# !pip install openai"
   ]
  },
  {
   "cell_type": "code",
   "execution_count": 1,
   "id": "92ab5ded",
   "metadata": {},
   "outputs": [],
   "source": [
    "# !pip install --upgrade openai"
   ]
  },
  {
   "cell_type": "code",
   "execution_count": 2,
   "id": "3e45b934",
   "metadata": {},
   "outputs": [
    {
     "name": "stdout",
     "output_type": "stream",
     "text": [
      "1.39.0\n"
     ]
    }
   ],
   "source": [
    "import openai\n",
    "print(openai.__version__)"
   ]
  },
  {
   "cell_type": "code",
   "execution_count": null,
   "id": "b3fbfc4a",
   "metadata": {},
   "outputs": [],
   "source": [
    "import os\n",
    "os.environ[\"OPENAI_API_KEY\"] = \"sk-proj-_U-D-VLSk9gAQA\""
   ]
  },
  {
   "cell_type": "markdown",
   "id": "c5b4063b",
   "metadata": {},
   "source": [
    "#### get weather"
   ]
  },
  {
   "cell_type": "code",
   "execution_count": null,
   "id": "1c41c7f6",
   "metadata": {},
   "outputs": [
    {
     "name": "stdout",
     "output_type": "stream",
     "text": [
      "ChatCompletionMessage(content=None, role='assistant', function_call=None, tool_calls=[ChatCompletionMessageToolCall(id='call_ynMouujfxjTwRwO2WzPrPeBd', function=Function(arguments='{\"location\":\"Paris, France\"}', name='get_weather'), type='function')], refusal=None, annotations=[])\n"
     ]
    }
   ],
   "source": [
    "\n",
    "import openai\n",
    "import os\n",
    "\n",
    "openai.api_key = os.getenv(\"OPENAI_API_KEY\")  \n",
    "\n",
    "tools = [\n",
    "    {\n",
    "        \"type\": \"function\",\n",
    "        \"function\": {\n",
    "            \"name\": \"get_weather\",\n",
    "            \"description\": \"Get current temperature for a given location.\",\n",
    "            \"parameters\": {\n",
    "                \"type\": \"object\",\n",
    "                \"properties\": {\n",
    "                    \"location\": {\n",
    "                        \"type\": \"string\",\n",
    "                        \"description\": \"City and country e.g. Bogotá, Colombia\"\n",
    "                    }\n",
    "                },\n",
    "                \"required\": [\"location\"]\n",
    "            }\n",
    "        }\n",
    "    }\n",
    "]\n",
    "\n",
    "response = openai.chat.completions.create(\n",
    "    model=\"gpt-4.1\",\n",
    "    messages=[\n",
    "        {\"role\": \"user\", \"content\": \"What is the weather like in Paris today?\"}\n",
    "    ],\n",
    "    tools=tools,\n",
    "    tool_choice=\"auto\"\n",
    ")\n",
    "\n",
    "print(response.choices[0].message)\n"
   ]
  },
  {
   "cell_type": "markdown",
   "id": "f9c3c551",
   "metadata": {},
   "source": [
    "#### send email"
   ]
  },
  {
   "cell_type": "code",
   "execution_count": null,
   "id": "5ff279ad",
   "metadata": {},
   "outputs": [
    {
     "name": "stdout",
     "output_type": "stream",
     "text": [
      "ChatCompletionMessage(content=None, role='assistant', function_call=None, tool_calls=[ChatCompletionMessageToolCall(id='call_8UURV1c0P4h2pufF96ic3NzB', function=Function(arguments='{\"to\": \"ilan@example.com\", \"subject\": \"Saying Hi\", \"body\": \"Hi Ilan!\"}', name='send_email'), type='function'), ChatCompletionMessageToolCall(id='call_skGBRzQYUbK37uKn2Ce0X745', function=Function(arguments='{\"to\": \"katia@example.com\", \"subject\": \"Saying Hi\", \"body\": \"Hi Katia!\"}', name='send_email'), type='function')], refusal=None, annotations=[])\n"
     ]
    }
   ],
   "source": [
    "import openai\n",
    "\n",
    "# openai.api_key = \"sk-proj-_C\"\n",
    "\n",
    "openai.api_key = os.getenv(\"OPENAI_API_KEY\")\n",
    "\n",
    "tools = [\n",
    "    {\n",
    "        \"type\": \"function\",\n",
    "        \"function\": {\n",
    "            \"name\": \"send_email\",\n",
    "            \"description\": \"Send an email to a given recipient with a subject and message.\",\n",
    "            \"parameters\": {\n",
    "                \"type\": \"object\",\n",
    "                \"properties\": {\n",
    "                    \"to\": {\n",
    "                        \"type\": \"string\",\n",
    "                        \"description\": \"The recipient email address.\"\n",
    "                    },\n",
    "                    \"subject\": {\n",
    "                        \"type\": \"string\",\n",
    "                        \"description\": \"Email subject line.\"\n",
    "                    },\n",
    "                    \"body\": {\n",
    "                        \"type\": \"string\",\n",
    "                        \"description\": \"Body of the email message.\"\n",
    "                    }\n",
    "                },\n",
    "                \"required\": [\"to\", \"subject\", \"body\"]\n",
    "            }\n",
    "        }\n",
    "    }\n",
    "]\n",
    "\n",
    "response = openai.chat.completions.create(\n",
    "    model=\"gpt-4-1106-preview\", \n",
    "    messages=[\n",
    "        {\"role\": \"user\", \"content\": \"Can you send an email to ilan@example.com and katia@example.com saying hi?\"}\n",
    "    ],\n",
    "    tools=tools,\n",
    "    tool_choice=\"auto\"\n",
    ")\n",
    "\n",
    "print(response.choices[0].message)\n"
   ]
  },
  {
   "cell_type": "markdown",
   "id": "bb082f7d",
   "metadata": {},
   "source": [
    "#### Search knowledge base"
   ]
  },
  {
   "cell_type": "code",
   "execution_count": null,
   "id": "ced8fd40",
   "metadata": {},
   "outputs": [
    {
     "name": "stdout",
     "output_type": "stream",
     "text": [
      "ChatCompletion(id='chatcmpl-BxMRKHew8YIQeEMyGkudo5saYgHq9', choices=[Choice(finish_reason='function_call', index=0, logprobs=None, message=ChatCompletionMessage(content=None, role='assistant', function_call=FunctionCall(arguments='{\"location\":\"Paris, France\"}', name='get_weather'), tool_calls=None, refusal=None, annotations=[]))], created=1753487310, model='gpt-4.1-2025-04-14', object='chat.completion', service_tier='default', system_fingerprint='fp_51e1070cf2', usage=CompletionUsage(completion_tokens=16, prompt_tokens=65, total_tokens=81, prompt_tokens_details={'cached_tokens': 0, 'audio_tokens': 0}, completion_tokens_details={'reasoning_tokens': 0, 'audio_tokens': 0, 'accepted_prediction_tokens': 0, 'rejected_prediction_tokens': 0}))\n"
     ]
    }
   ],
   "source": [
    "#Search knowledge base\n",
    "\n",
    "import openai\n",
    "\n",
    "\n",
    "openai.api_key = os.getenv(\"OPENAI_API_KEY\")\n",
    "\n",
    "response = openai.chat.completions.create(\n",
    "    model=\"gpt-4.1\",\n",
    "    messages=[\n",
    "        {\"role\": \"user\", \"content\": \"What is the weather in Paris today?\"}\n",
    "    ],\n",
    "    functions=[\n",
    "        {\n",
    "            \"name\": \"get_weather\",\n",
    "            \"description\": \"Get current weather in a given location\",\n",
    "            \"parameters\": {\n",
    "                \"type\": \"object\",\n",
    "                \"properties\": {\n",
    "                    \"location\": {\n",
    "                        \"type\": \"string\",\n",
    "                        \"description\": \"City and country, e.g. Paris, France\",\n",
    "                    },\n",
    "                },\n",
    "                \"required\": [\"location\"],\n",
    "            },\n",
    "        }\n",
    "    ],\n",
    "    function_call=\"auto\"\n",
    ")\n",
    "\n",
    "print(response)"
   ]
  },
  {
   "cell_type": "code",
   "execution_count": 11,
   "id": "1c8771ae",
   "metadata": {},
   "outputs": [],
   "source": [
    "import requests\n",
    "\n",
    "def get_weather(latitude, longitude):\n",
    "    response = requests.get(f\"https://api.open-meteo.com/v1/forecast?latitude={latitude}&longitude={longitude}&current=temperature_2m,wind_speed_10m&hourly=temperature_2m,relative_humidity_2m,wind_speed_10m\")\n",
    "    data = response.json()\n",
    "    return data['current']['temperature_2m']"
   ]
  }
 ],
 "metadata": {
  "kernelspec": {
   "display_name": "Python 3",
   "language": "python",
   "name": "python3"
  },
  "language_info": {
   "codemirror_mode": {
    "name": "ipython",
    "version": 3
   },
   "file_extension": ".py",
   "mimetype": "text/x-python",
   "name": "python",
   "nbconvert_exporter": "python",
   "pygments_lexer": "ipython3",
   "version": "3.13.5"
  }
 },
 "nbformat": 4,
 "nbformat_minor": 5
}
